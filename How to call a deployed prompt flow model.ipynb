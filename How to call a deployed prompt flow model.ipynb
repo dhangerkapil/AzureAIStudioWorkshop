{
 "cells": [
  {
   "cell_type": "markdown",
   "id": "167e64e2",
   "metadata": {},
   "source": [
    "# Calling the Azure prompt flow deployed model"
   ]
  },
  {
   "cell_type": "markdown",
   "id": "e3432bd7",
   "metadata": {},
   "source": [
    "https://learn.microsoft.com/en-us/azure/machine-learning/prompt-flow/how-to-deploy-for-real-time-inference?view=azureml-api-2#grant-permissions-to-the-endpoint"
   ]
  },
  {
   "cell_type": "markdown",
   "id": "1cb49b9f",
   "metadata": {},
   "source": [
    "<img src=\"screenshot.png\">"
   ]
  },
  {
   "cell_type": "code",
   "execution_count": 1,
   "id": "21009cc2",
   "metadata": {},
   "outputs": [],
   "source": [
    "import urllib.request\n",
    "import json\n",
    "import os\n",
    "import sys\n",
    "import ssl\n",
    "\n",
    "from dotenv import load_dotenv"
   ]
  },
  {
   "cell_type": "code",
   "execution_count": 2,
   "id": "6d05e916",
   "metadata": {},
   "outputs": [
    {
     "data": {
      "text/plain": [
       "'3.10.10 (main, Mar 21 2023, 18:45:11) [GCC 11.2.0]'"
      ]
     },
     "execution_count": 2,
     "metadata": {},
     "output_type": "execute_result"
    }
   ],
   "source": [
    "sys.version"
   ]
  },
  {
   "cell_type": "code",
   "execution_count": 3,
   "id": "4bc2e9cf",
   "metadata": {},
   "outputs": [],
   "source": [
    "load_dotenv(\"azure.env\")\n",
    "\n",
    "deployed_model_endpoint, deployed_model_key = os.getenv(\"model_url\"), os.getenv(\n",
    "    \"model_api_key\"\n",
    ")\n",
    "\n",
    "if len(deployed_model_endpoint) == 0:\n",
    "    print(\"Endpoint is empty\")\n",
    "\n",
    "if len(deployed_model_key) == 0:\n",
    "    print(\"Key is empty\")"
   ]
  },
  {
   "cell_type": "code",
   "execution_count": 4,
   "id": "f9b92c08",
   "metadata": {},
   "outputs": [],
   "source": [
    "def allowSelfSignedHttps(allowed):\n",
    "    # bypass the server certificate verification on client side\n",
    "    if (\n",
    "        allowed\n",
    "        and not os.environ.get(\"PYTHONHTTPSVERIFY\", \"\")\n",
    "        and getattr(ssl, \"_create_unverified_context\", None)\n",
    "    ):\n",
    "        ssl._create_default_https_context = ssl._create_unverified_context"
   ]
  },
  {
   "cell_type": "code",
   "execution_count": 5,
   "id": "8d5e0381",
   "metadata": {},
   "outputs": [],
   "source": [
    "def calling_promptflow_model(prompt):\n",
    "    \"\"\"\n",
    "    Calling an Azure ML prompt flow deployed model\n",
    "    \"\"\"\n",
    "    data = {\"question\": prompt}\n",
    "    body = str.encode(json.dumps(data))\n",
    "    headers = {\n",
    "        \"Content-Type\": \"application/json\",\n",
    "        \"Authorization\": (\"Bearer \" + deployed_model_key),\n",
    "        \"azureml-model-deployment\": \"blue\",\n",
    "    }\n",
    "\n",
    "    req = urllib.request.Request(deployed_model_endpoint, body, headers)\n",
    "\n",
    "    try:\n",
    "        response = urllib.request.urlopen(req)\n",
    "        result = response.read()\n",
    "        print(\"Answer:\")\n",
    "        print(\"\\033[1;31;34m\")\n",
    "        answer = json.loads(result.decode(\"utf-8\"))[\"output\"]\n",
    "        print(answer)\n",
    "\n",
    "    except urllib.error.HTTPError as error:\n",
    "        print(\"[ERROR] The request failed with status code: \" + str(error.code))\n",
    "        print()\n",
    "        print(error.info())\n",
    "        print(error.read().decode(\"utf8\", \"ignore\"))"
   ]
  },
  {
   "cell_type": "markdown",
   "id": "79492825",
   "metadata": {},
   "source": [
    "## Testing"
   ]
  },
  {
   "cell_type": "code",
   "execution_count": 6,
   "id": "3156ec70",
   "metadata": {},
   "outputs": [
    {
     "name": "stdout",
     "output_type": "stream",
     "text": [
      "Answer:\n",
      "\u001b[1;31;34m\n",
      "I am an AI assistant designed to answer questions based on a given context.\n"
     ]
    }
   ],
   "source": [
    "calling_promptflow_model(\"Who are you?\")"
   ]
  },
  {
   "cell_type": "code",
   "execution_count": 7,
   "id": "8946221b",
   "metadata": {},
   "outputs": [
    {
     "name": "stdout",
     "output_type": "stream",
     "text": [
      "Answer:\n",
      "\u001b[1;31;34m\n",
      "To connect your smartphone to your Ford car, you need to turn on Bluetooth, select \"Add a Bluetooth device\" and select your vehicle on your device. Then, confirm that the number on your device matches the number on the touchscreen. To play media through Bluetooth, select the audio option on the feature bar, select sources, and select the Bluetooth option. When using a navigation app, keep your device unlocked and the app open. (Source: \"ford puma.pdf\" page 442-443, 470)\n"
     ]
    }
   ],
   "source": [
    "calling_promptflow_model(\"How to connect my smartphone on my Ford car?\")"
   ]
  },
  {
   "cell_type": "code",
   "execution_count": 8,
   "id": "3066e91f",
   "metadata": {},
   "outputs": [
    {
     "name": "stdout",
     "output_type": "stream",
     "text": [
      "Answer:\n",
      "\u001b[1;31;34m\n",
      "The Mercedes owner's manual provides detailed instructions on how to install and use radio equipment on the vehicle. It is recommended to use Technical Specification ISO/TS 21609 when retrofitting two-way radios. The maximum transmission output at the base of the aerial must not exceed the values provided in the manual. The Digital Owner's Manual in the vehicle, on the internet, and in the app provides further information on regulatory radio identification and notes for small components and wireless applications and specifications. It is also important to comply with the legal requirements for detachable parts and to obtain further information from a Mercedes-Benz service center for specific regulations for wireless components in Russia and Ukraine. (Source: mercedes-b-class-hatchback-2022-march-w247-mbux-owners-manual-01.pdf)\n"
     ]
    }
   ],
   "source": [
    "calling_promptflow_model(\"How to setup the radio on my Mercedes?\")"
   ]
  },
  {
   "cell_type": "code",
   "execution_count": 9,
   "id": "fe68e6e3",
   "metadata": {},
   "outputs": [
    {
     "name": "stdout",
     "output_type": "stream",
     "text": [
      "Answer:\n",
      "\u001b[1;31;34m\n",
      "MBUX is a multimedia system in Mercedes-Benz vehicles that can be operated using voice input. It can be used to operate various functions such as telephone, text message and email, navigation, radio, media, and vehicle functions. (Source: mercedes-a-class-hatchback-2022-august-w177-mbux-owners-manual-01.pdf, mercedes-b-class-hatchback-2022-march-w247-mbux-owners-manual-01.pdf)\n"
     ]
    }
   ],
   "source": [
    "calling_promptflow_model(\"What is MBUX?\")"
   ]
  },
  {
   "cell_type": "code",
   "execution_count": 10,
   "id": "fbb02b52",
   "metadata": {},
   "outputs": [
    {
     "name": "stdout",
     "output_type": "stream",
     "text": [
      "Answer:\n",
      "\u001b[1;31;34m\n",
      "To connect your smartphone to a Mercedes car, you can use Smartphone Integration with the full range of functions, which is only possible with an internet connection. You need to download the appropriate application on the mobile phone to use Smartphone Integration. The mobile phone must be switched on and connected to a USB port with the ç symbol on the multimedia system using a suitable cable. Only one mobile phone at a time can be connected via Smartphone Integration to the multimedia system. Also, for use with two phone mode with Smartphone Integration, only one additional mobile phone can be connected using Bluetooth® with the multimedia system. (Source: mercedes-b-class-hatchback-2022-march-w247-mbux-owners-manual-01.pdf)\n"
     ]
    }
   ],
   "source": [
    "calling_promptflow_model(\"How to connect my smartphone on a Mercedes car?\")"
   ]
  },
  {
   "cell_type": "code",
   "execution_count": 11,
   "id": "15cc4d2b",
   "metadata": {},
   "outputs": [
    {
     "name": "stdout",
     "output_type": "stream",
     "text": [
      "Answer:\n",
      "\u001b[1;31;34m\n",
      "To update the MBUX system, you need to go to the system settings menu and check for available updates. If an update is available, you can select \"Accept and install\" to initiate the download and installation process. It is important to regularly install these updates to ensure the security of your multimedia system's data. (Source: mercedes-b-class-hatchback-2022-march-w247-mbux-owners-manual-01.pdf)\n"
     ]
    }
   ],
   "source": [
    "calling_promptflow_model(\"How to update the MBUX system?\")"
   ]
  },
  {
   "cell_type": "code",
   "execution_count": 12,
   "id": "6b692840",
   "metadata": {},
   "outputs": [
    {
     "name": "stdout",
     "output_type": "stream",
     "text": [
      "Answer:\n",
      "\u001b[1;31;34m\n",
      "To enter an address to your Ford's GPS, say \"Enter a destination address\", followed by the house number, street, and city. You can also search for a point of interest by name or category, or search for a nearby point of interest by category. There are options to set your saved home or work address as the destination, and to display lists of previous or favorite destinations. (Source: ford puma.pdf)\n"
     ]
    }
   ],
   "source": [
    "calling_promptflow_model(\"How to enter an address to my Ford's GPS?\")"
   ]
  },
  {
   "cell_type": "code",
   "execution_count": 13,
   "id": "a09fc711",
   "metadata": {},
   "outputs": [
    {
     "name": "stdout",
     "output_type": "stream",
     "text": [
      "Answer:\n",
      "\u001b[1;31;34m\n",
      "To learn how to operate the multimedia equipment in your Clio and connect your phone, you should refer to the equipment instructions (Source: Clio-1189-8_ENG.pdf). Additionally, it is important to comply with the legislation in force concerning the use of such equipment (Source: Clio-1189-8_ENG.pdf). If you want to install any equipment, please consult an authorized dealer for assistance (Source: Clio-1189-8_ENG.pdf). No work may be carried out on the vehicle’s electrical or radio circuits except by approved dealers, or else an incorrectly connected system may cause damage to the electrical equipment and/or the components connected to it (Source: Clio-1189-8_ENG.pdf).\n"
     ]
    }
   ],
   "source": [
    "calling_promptflow_model(\"How to connect my phone to my Clio?\")"
   ]
  },
  {
   "cell_type": "code",
   "execution_count": null,
   "id": "b20d61dd",
   "metadata": {},
   "outputs": [],
   "source": []
  }
 ],
 "metadata": {
  "kernelspec": {
   "display_name": "Python 3.10 - SDK v2",
   "language": "python",
   "name": "python310-sdkv2"
  },
  "language_info": {
   "codemirror_mode": {
    "name": "ipython",
    "version": 3
   },
   "file_extension": ".py",
   "mimetype": "text/x-python",
   "name": "python",
   "nbconvert_exporter": "python",
   "pygments_lexer": "ipython3",
   "version": "3.10.10"
  }
 },
 "nbformat": 4,
 "nbformat_minor": 5
}
